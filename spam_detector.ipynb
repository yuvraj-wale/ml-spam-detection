{
 "cells": [
  {
   "cell_type": "markdown",
   "metadata": {},
   "source": [
    "# Spam/Ham Detector System\n",
    "\n",
    "This project is an implementation of a spam detection system using Natural Language Processing (NLP) and a Multinomial Naive Bayes classifier. The goal is to classify SMS messages as either \"spam\" or \"ham\" (not spam)."
   ]
  },
  {
   "cell_type": "markdown",
   "metadata": {},
   "source": [
    "## Project Overview\n",
    "\n",
    "**Objective:**  \n",
    "Build a spam detection system that classifies SMS messages as \"spam\" or \"ham\" using NLP techniques.\n",
    "\n",
    "**Key Steps:**  \n",
    "- Load and explore the dataset.\n",
    "- Preprocess the text to normalize and clean the data.\n",
    "- Transform text data into numerical features using CountVectorizer.\n",
    "- Train a Multinomial Naive Bayes classifier.\n",
    "- Evaluate the model using metrics such as accuracy, precision, recall, and F1 score.\n",
    "- Test the model on new data samples."
   ]
  },
  {
   "cell_type": "markdown",
   "metadata": {},
   "source": [
    "## Data Loading and Exploration"
   ]
  },
  {
   "cell_type": "code",
   "execution_count": 9,
   "metadata": {},
   "outputs": [
    {
     "data": {
      "text/html": [
       "<div>\n",
       "<style scoped>\n",
       "    .dataframe tbody tr th:only-of-type {\n",
       "        vertical-align: middle;\n",
       "    }\n",
       "\n",
       "    .dataframe tbody tr th {\n",
       "        vertical-align: top;\n",
       "    }\n",
       "\n",
       "    .dataframe thead th {\n",
       "        text-align: right;\n",
       "    }\n",
       "</style>\n",
       "<table border=\"1\" class=\"dataframe\">\n",
       "  <thead>\n",
       "    <tr style=\"text-align: right;\">\n",
       "      <th></th>\n",
       "      <th>label</th>\n",
       "      <th>messages</th>\n",
       "    </tr>\n",
       "  </thead>\n",
       "  <tbody>\n",
       "    <tr>\n",
       "      <th>0</th>\n",
       "      <td>ham</td>\n",
       "      <td>Go until jurong point, crazy.. Available only ...</td>\n",
       "    </tr>\n",
       "    <tr>\n",
       "      <th>1</th>\n",
       "      <td>ham</td>\n",
       "      <td>Ok lar... Joking wif u oni...</td>\n",
       "    </tr>\n",
       "    <tr>\n",
       "      <th>2</th>\n",
       "      <td>spam</td>\n",
       "      <td>Free entry in 2 a wkly comp to win FA Cup fina...</td>\n",
       "    </tr>\n",
       "    <tr>\n",
       "      <th>3</th>\n",
       "      <td>ham</td>\n",
       "      <td>U dun say so early hor... U c already then say...</td>\n",
       "    </tr>\n",
       "    <tr>\n",
       "      <th>4</th>\n",
       "      <td>ham</td>\n",
       "      <td>Nah I don't think he goes to usf, he lives aro...</td>\n",
       "    </tr>\n",
       "  </tbody>\n",
       "</table>\n",
       "</div>"
      ],
      "text/plain": [
       "  label                                           messages\n",
       "0   ham  Go until jurong point, crazy.. Available only ...\n",
       "1   ham                      Ok lar... Joking wif u oni...\n",
       "2  spam  Free entry in 2 a wkly comp to win FA Cup fina...\n",
       "3   ham  U dun say so early hor... U c already then say...\n",
       "4   ham  Nah I don't think he goes to usf, he lives aro..."
      ]
     },
     "execution_count": 9,
     "metadata": {},
     "output_type": "execute_result"
    }
   ],
   "source": [
    "# Importing necessary libraries\n",
    "import pandas as pd   \n",
    "import numpy as np \n",
    "\n",
    "import seaborn as sns \n",
    "import matplotlib.pyplot as plt\n",
    "%matplotlib inline \n",
    "\n",
    "# Load the SMS spam dataset\n",
    "data = pd.read_table(\"data/SMSSpamCollection.txt\", sep=\"\\t\", header=None, names=[\"label\", \"messages\"])\n",
    "\n",
    "# Display the first few rows of the dataset\n",
    "data.head()"
   ]
  },
  {
   "cell_type": "markdown",
   "metadata": {},
   "source": [
    "### Exploratory Data Analysis (EDA)"
   ]
  },
  {
   "cell_type": "code",
   "execution_count": 10,
   "metadata": {},
   "outputs": [
    {
     "name": "stdout",
     "output_type": "stream",
     "text": [
      "\n",
      "Shape of the dataset:\n",
      "(5572, 2)\n",
      "======================================================\n",
      "\n",
      "Number of Null values in the dataset:\n",
      "0\n",
      "======================================================\n",
      "\n",
      "Dataframe Information:\n",
      "<class 'pandas.core.frame.DataFrame'>\n",
      "RangeIndex: 5572 entries, 0 to 5571\n",
      "Data columns (total 2 columns):\n",
      " #   Column    Non-Null Count  Dtype \n",
      "---  ------    --------------  ----- \n",
      " 0   label     5572 non-null   object\n",
      " 1   messages  5572 non-null   object\n",
      "dtypes: object(2)\n",
      "memory usage: 87.2+ KB\n",
      "======================================================\n",
      "\n",
      "Statistical Summary (for numeric columns):\n",
      "       label                messages\n",
      "count   5572                    5572\n",
      "unique     2                    5169\n",
      "top      ham  Sorry, I'll call later\n",
      "freq    4825                      30\n",
      "======================================================\n"
     ]
    }
   ],
   "source": [
    "# Exploring the data  \n",
    "def explore_data(df):  \n",
    "    \"\"\" Function to explore basic details of the dataframe \"\"\"\n",
    "    \n",
    "    print(\"\\nShape of the dataset:\")\n",
    "    print(df.shape)\n",
    "    print('======================================================')\n",
    "    \n",
    "    print(\"\\nNumber of Null values in the dataset:\")\n",
    "    print(df.isnull().sum().sum())\n",
    "    print('======================================================')\n",
    "    \n",
    "    print(\"\\nDataframe Information:\")\n",
    "    df.info()  # No need to wrap inside print\n",
    "    print('======================================================')\n",
    "    \n",
    "    print(\"\\nStatistical Summary (for numeric columns):\")\n",
    "    print(df.describe(include='all'))  # Include 'all' to summarize both numeric and categorical data\n",
    "    print('======================================================')\n",
    "\n",
    "# Call the function on the dataset\n",
    "explore_data(data)"
   ]
  },
  {
   "cell_type": "code",
   "execution_count": 11,
   "metadata": {},
   "outputs": [
    {
     "name": "stdout",
     "output_type": "stream",
     "text": [
      "Total No. Of Ham Cases :-  4825\n",
      "Total No. Of Spam Cases :-  747\n"
     ]
    },
    {
     "data": {
      "image/png": "[encoded data removed]",
      "text/plain": [
       "<Figure size 640x480 with 1 Axes>"
      ]
     },
     "metadata": {},
     "output_type": "display_data"
    }
   ],
   "source": [
    "# Visualizing the distribution of \"ham\" vs \"spam\" messages\n",
    "len_ham = len(data[\"label\"][data.label == \"ham\"])\n",
    "len_spam = len(data[\"label\"][data.label == \"spam\"])\n",
    "\n",
    "# Display counts\n",
    "print(\"Total No. Of Ham Cases :- \", len_ham)\n",
    "print(\"Total No. Of Spam Cases :- \", len_spam)\n",
    "\n",
    "# Plotting a pie chart for class distribution\n",
    "arr = np.array([len_ham , len_spam]) \n",
    "labels = ['ham', 'spam'] \n",
    "plt.pie(arr, labels=labels, explode = [0.2,0.0], autopct='%1.1f%%', shadow=True) \n",
    "plt.show()"
   ]
  },
  {
   "cell_type": "markdown",
   "metadata": {},
   "source": [
    "## Text Preprocessing"
   ]
  },
  {
   "cell_type": "code",
   "execution_count": 12,
   "metadata": {},
   "outputs": [
    {
     "name": "stdout",
     "output_type": "stream",
     "text": [
      "Go until jurong point, crazy.. Available only in bugis n great world la e buffet... Cine there got amore wat...\n",
      "================================================\n",
      "go until jurong point, crazy.. available only in bugis n great world la e buffet... cine there got amore wat...\n"
     ]
    }
   ],
   "source": [
    "def text_preprocess(x):\n",
    "    \"\"\"\n",
    "    Function for text normalization and cleaning.\n",
    "    - Converts text to lowercase.\n",
    "    - Replaces specific patterns and contractions to normalize text.\n",
    "    \"\"\"\n",
    "    x = str(x).lower()\n",
    "    x = x.replace(\",000,000\", \"m\").replace(\",000\", \"k\") \\\n",
    "         .replace(\"′\", \"'\").replace(\"’\", \"'\") \\\n",
    "         .replace(\"won't\", \"will not\").replace(\"cannot\", \"can not\").replace(\"can't\", \"can not\") \\\n",
    "         .replace(\"n't\", \" not\").replace(\"what's\", \"what is\").replace(\"it's\", \"it is\") \\\n",
    "         .replace(\"'ve\", \" have\").replace(\"i'm\", \"i am\").replace(\"'re\", \" are\") \\\n",
    "         .replace(\"he's\", \"he is\").replace(\"she's\", \"she is\").replace(\"'s\", \" own\") \\\n",
    "         .replace(\"%\", \" percent \").replace(\"₹\", \" rupee \").replace(\"$\", \" dollar \") \\\n",
    "         .replace(\"€\", \" euro \").replace(\"'ll\", \" will\")\n",
    "    return x\n",
    "\n",
    "# Apply preprocessing to the messages column\n",
    "data[\"Preprocessed Text\"] = data[\"messages\"].apply(lambda x: text_preprocess(x))\n",
    "data.head()\n",
    "\n",
    "# Compare original and preprocessed text for a sample message\n",
    "print(data['messages'][0])\n",
    "print('================================================')\n",
    "print(data['Preprocessed Text'][0])"
   ]
  },
  {
   "cell_type": "markdown",
   "metadata": {},
   "source": [
    "## Feature Engineering and Data Development"
   ]
  },
  {
   "cell_type": "code",
   "execution_count": 13,
   "metadata": {},
   "outputs": [
    {
     "name": "stdout",
     "output_type": "stream",
     "text": [
      "Number of rows in the total set: 5572\n",
      "Number of rows in the training set: 4179\n",
      "Number of rows in the test set: 1393\n"
     ]
    }
   ],
   "source": [
    "# Map labels to numerical values: ham -> 0, spam -> 1\n",
    "data[\"label\"] = data.label.map({'ham': 0, 'spam': 1})\n",
    "\n",
    "# Split the data into training and testing sets\n",
    "from sklearn.model_selection import train_test_split\n",
    "X_train, X_test, y_train, y_test = train_test_split(data['Preprocessed Text'], \n",
    "                                                    data['label'], \n",
    "                                                    random_state=1)\n",
    "\n",
    "print('Number of rows in the total set: {}'.format(data.shape[0]))\n",
    "print('Number of rows in the training set: {}'.format(X_train.shape[0]))\n",
    "print('Number of rows in the test set: {}'.format(X_test.shape[0]))\n",
    "\n",
    "# Transform text data into numerical features using CountVectorizer\n",
    "from sklearn.feature_extraction.text import CountVectorizer\n",
    "count_vector = CountVectorizer()\n",
    "\n",
    "# Fit the training data and transform it into a matrix\n",
    "training_data = count_vector.fit_transform(X_train)\n",
    "\n",
    "# Transform the testing data using the same vectorizer (do not fit again)\n",
    "testing_data = count_vector.transform(X_test)"
   ]
  },
  {
   "cell_type": "markdown",
   "metadata": {},
   "source": [
    "## Model Development and Evaluation"
   ]
  },
  {
   "cell_type": "code",
   "execution_count": 14,
   "metadata": {},
   "outputs": [
    {
     "name": "stdout",
     "output_type": "stream",
     "text": [
      "Accuracy score:  0.9877961234745154\n",
      "Precision score:  0.9719101123595506\n",
      "Recall score:  0.9351351351351351\n",
      "F1 score:  0.953168044077135\n"
     ]
    }
   ],
   "source": [
    "# Train a Multinomial Naive Bayes classifier\n",
    "from sklearn.naive_bayes import MultinomialNB\n",
    "naive_bayes = MultinomialNB()\n",
    "naive_bayes.fit(training_data, y_train)\n",
    "\n",
    "# Predict on the testing data\n",
    "predictions = naive_bayes.predict(testing_data)\n",
    "\n",
    "# Evaluate model performance using various metrics\n",
    "from sklearn.metrics import accuracy_score, precision_score, recall_score, f1_score\n",
    "print('Accuracy score: ', format(accuracy_score(y_test, predictions)))\n",
    "print('Precision score: ', format(precision_score(y_test, predictions)))\n",
    "print('Recall score: ', format(recall_score(y_test, predictions)))\n",
    "print('F1 score: ', format(f1_score(y_test, predictions)))"
   ]
  },
  {
   "cell_type": "markdown",
   "metadata": {},
   "source": [
    "## Testing the Model"
   ]
  },
  {
   "cell_type": "code",
   "execution_count": 15,
   "metadata": {},
   "outputs": [
    {
     "name": "stdout",
     "output_type": "stream",
     "text": [
      "Predicted label for the sample text: [0]\n"
     ]
    }
   ],
   "source": [
    "# Test the model on a new sample text\n",
    "doc = pd.Series(\"This is the 2nd time we have tried 2 contact u...\")\n",
    "test = count_vector.transform(doc)\n",
    "predicted_label = naive_bayes.predict(test)\n",
    "print(\"Predicted label for the sample text:\", predicted_label)"
   ]
  }
 ],
 "metadata": {
  "kernelspec": {
   "display_name": "base",
   "language": "python",
   "name": "python3"
  },
  "language_info": {
   "codemirror_mode": {
    "name": "ipython",
    "version": 3
   },
   "file_extension": ".py",
   "mimetype": "text/x-python",
   "name": "python",
   "nbconvert_exporter": "python",
   "pygments_lexer": "ipython3",
   "version": "3.9.19"
  }
 },
 "nbformat": 4,
 "nbformat_minor": 2
}
